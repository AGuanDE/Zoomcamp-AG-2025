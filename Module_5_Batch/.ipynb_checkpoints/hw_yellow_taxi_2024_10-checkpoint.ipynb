{
 "cells": [
  {
   "cell_type": "code",
   "execution_count": 76,
   "id": "7ba6e02b-76c2-4cac-b79d-b42376795f01",
   "metadata": {},
   "outputs": [],
   "source": [
    "import pyspark\n",
    "from pyspark.sql import SparkSession\n",
    "import pandas as pd\n",
    "\n",
    "spark = SparkSession.builder \\\n",
    "    .master('local[*]') \\\n",
    "    .appName('yellow_taxi_2024_10') \\\n",
    "    .getOrCreate()"
   ]
  },
  {
   "cell_type": "markdown",
   "id": "36d4e69c-4ad8-4b54-a8f3-b4477fab048a",
   "metadata": {},
   "source": [
    "## Question 1"
   ]
  },
  {
   "cell_type": "code",
   "execution_count": 77,
   "id": "f2c990fb-ece5-489d-9244-db3f5469fe53",
   "metadata": {},
   "outputs": [
    {
     "data": {
      "text/plain": [
       "'3.3.2'"
      ]
     },
     "execution_count": 77,
     "metadata": {},
     "output_type": "execute_result"
    }
   ],
   "source": [
    "spark.version"
   ]
  },
  {
   "cell_type": "markdown",
   "id": "f17d962e-b7df-4d01-b491-a94ff61312fc",
   "metadata": {},
   "source": [
    "## Question 2"
   ]
  },
  {
   "cell_type": "code",
   "execution_count": 78,
   "id": "4716f151-68f8-4e4d-8f1c-c8dcd7994e35",
   "metadata": {},
   "outputs": [],
   "source": [
    "df_raw = spark.read.parquet('yellow_tripdata_2024-10.parquet')"
   ]
  },
  {
   "cell_type": "code",
   "execution_count": 79,
   "id": "b478f3d2-c396-48b9-a9cd-d16a79c6f797",
   "metadata": {},
   "outputs": [
    {
     "data": {
      "text/plain": [
       "16"
      ]
     },
     "execution_count": 79,
     "metadata": {},
     "output_type": "execute_result"
    }
   ],
   "source": [
    "df.rdd.getNumPartitions()"
   ]
  },
  {
   "cell_type": "code",
   "execution_count": 80,
   "id": "dac8f499-6dc6-4cd9-a573-819374c95cf7",
   "metadata": {},
   "outputs": [],
   "source": [
    "df_part_4 = df.coalesce(4)"
   ]
  },
  {
   "cell_type": "code",
   "execution_count": 81,
   "id": "5b8381b9-3717-419f-876d-27d424e0c1cd",
   "metadata": {},
   "outputs": [
    {
     "name": "stderr",
     "output_type": "stream",
     "text": [
      "                                                                                \r"
     ]
    }
   ],
   "source": [
    "df_part_4.write.mode(\"overwrite\").parquet(\"data/yellow\")"
   ]
  },
  {
   "cell_type": "code",
   "execution_count": 82,
   "id": "7f688ffe-99a1-4cca-a44a-6ce83487060a",
   "metadata": {},
   "outputs": [],
   "source": [
    "from pyspark.sql import functions as F"
   ]
  },
  {
   "cell_type": "code",
   "execution_count": 83,
   "id": "51e69844-bc85-4464-b422-e70b97945d45",
   "metadata": {},
   "outputs": [],
   "source": [
    "yellow_trips = df_part_4 \\\n",
    "\t.withColumn('pickup_date', F.to_date(df_part_4.tpep_pickup_datetime)) \\\n",
    "\t.withColumn('dropoff_date', F.to_date(df_part_4.tpep_dropoff_datetime))"
   ]
  },
  {
   "cell_type": "code",
   "execution_count": 84,
   "id": "fffd8629-2519-42d6-98fd-9ede260bd6fd",
   "metadata": {},
   "outputs": [],
   "source": [
    "yellow_trips.createOrReplaceTempView('yellow_2024')"
   ]
  },
  {
   "cell_type": "code",
   "execution_count": 85,
   "id": "6008c5ed-7446-4573-adb6-646917a8754d",
   "metadata": {},
   "outputs": [
    {
     "name": "stdout",
     "output_type": "stream",
     "text": [
      "+--------+\n",
      "|count(1)|\n",
      "+--------+\n",
      "|  128909|\n",
      "+--------+\n",
      "\n"
     ]
    }
   ],
   "source": [
    "spark.sql(\"\"\"\n",
    "SELECT\n",
    "    count(*)\n",
    "FROM\n",
    "    yellow_2024\n",
    "WHERE\n",
    "    tpep_pickup_datetime BETWEEN '2024-10-15 00:00:00' AND '2024-10-15 23:59:59'\n",
    "\"\"\").show()"
   ]
  },
  {
   "cell_type": "markdown",
   "id": "f1bcd3e4-3a0b-43ac-8ac8-f24ec16b4a02",
   "metadata": {},
   "source": [
    "### Check count using pandas\n",
    "- slight discrepancy (unclear if difference in timestamp handling?)"
   ]
  },
  {
   "cell_type": "code",
   "execution_count": 75,
   "id": "6b27ad97-1168-40d2-96fe-872b9ec2659b",
   "metadata": {},
   "outputs": [],
   "source": [
    "df_pd = pd.read_parquet('yellow_tripdata_2024-10.parquet')"
   ]
  },
  {
   "cell_type": "code",
   "execution_count": 51,
   "id": "bd1d65ef-29ff-4703-ad04-e9a13c9fa1ac",
   "metadata": {},
   "outputs": [
    {
     "name": "stdout",
     "output_type": "stream",
     "text": [
      "128893\n"
     ]
    }
   ],
   "source": [
    "df_pd['pickup_date'] = df_pd['tpep_pickup_datetime'].dt.date\n",
    "\n",
    "oct_15_records = df_pd[df_pd['pickup_date'] == pd.to_datetime('2024-10-15').date()]\n",
    "\n",
    "print(len(oct_15_records))"
   ]
  },
  {
   "cell_type": "markdown",
   "id": "1eb713f8-e900-4420-b6e4-fc9de4bac965",
   "metadata": {},
   "source": [
    "## Question 3"
   ]
  },
  {
   "cell_type": "code",
   "execution_count": 54,
   "id": "f4403e0d-0cb7-4ec4-9d90-6c31337a3e31",
   "metadata": {},
   "outputs": [
    {
     "name": "stdout",
     "output_type": "stream",
     "text": [
      "+------------------+\n",
      "|       trip_length|\n",
      "+------------------+\n",
      "|162.61777777777777|\n",
      "|           143.325|\n",
      "|137.76055555555556|\n",
      "|114.83472222222223|\n",
      "| 89.89833333333333|\n",
      "| 89.44611111111111|\n",
      "| 70.29916666666666|\n",
      "| 67.57333333333334|\n",
      "| 66.06666666666666|\n",
      "|           46.4225|\n",
      "| 42.30888888888889|\n",
      "| 38.47416666666667|\n",
      "| 33.95111111111111|\n",
      "| 26.29861111111111|\n",
      "| 25.29138888888889|\n",
      "|25.238333333333333|\n",
      "|             24.47|\n",
      "|23.996666666666666|\n",
      "|23.995277777777776|\n",
      "|23.994722222222222|\n",
      "+------------------+\n",
      "only showing top 20 rows\n",
      "\n"
     ]
    }
   ],
   "source": [
    "spark.sql(\"\"\"\n",
    "SELECT\n",
    "    (unix_timestamp(tpep_dropoff_datetime) - unix_timestamp(tpep_pickup_datetime)) / 3600 AS trip_length\n",
    "FROM\n",
    "    yellow_2024\n",
    "ORDER BY\n",
    "    trip_length DESC\n",
    "\"\"\").show()"
   ]
  },
  {
   "cell_type": "markdown",
   "id": "209aa7da-a485-4a46-9ca6-58e8d360791b",
   "metadata": {},
   "source": [
    "## Question 6"
   ]
  },
  {
   "cell_type": "code",
   "execution_count": 61,
   "id": "d6b21587-7f21-489e-be65-70be5e13e6b6",
   "metadata": {},
   "outputs": [],
   "source": [
    "df_zone = spark.read \\\n",
    "    .option('header', 'true') \\\n",
    "    .csv('taxi_zone_lookup.csv')"
   ]
  },
  {
   "cell_type": "code",
   "execution_count": 63,
   "id": "a25d3296-dcb4-4249-84d9-c481735324c4",
   "metadata": {},
   "outputs": [],
   "source": [
    "df_zone.createOrReplaceTempView('taxi_zones')"
   ]
  },
  {
   "cell_type": "markdown",
   "id": "6fa4cf2e-48b3-4f99-9daf-591ec7a23ed8",
   "metadata": {},
   "source": [
    "### Join dataframes in spark"
   ]
  },
  {
   "cell_type": "code",
   "execution_count": 67,
   "id": "f659c00a-9a1a-4570-84ec-d3eec1c796f1",
   "metadata": {},
   "outputs": [],
   "source": [
    "df_join = yellow_trips.join(F.broadcast(df_zone), yellow_trips.PULocationID == df_zone.LocationID, how='inner')"
   ]
  },
  {
   "cell_type": "code",
   "execution_count": 68,
   "id": "7451f80d-40a4-4d8a-9ffd-4cd029715c3b",
   "metadata": {},
   "outputs": [],
   "source": [
    "df_join.createOrReplaceTempView('joined')"
   ]
  },
  {
   "cell_type": "code",
   "execution_count": 87,
   "id": "ee55edf3-299a-4835-88db-12f8479880e7",
   "metadata": {},
   "outputs": [
    {
     "name": "stdout",
     "output_type": "stream",
     "text": [
      "+----------+--------------------+\n",
      "|trip_count|                Zone|\n",
      "+----------+--------------------+\n",
      "|         1|Governor's Island...|\n",
      "+----------+--------------------+\n",
      "\n"
     ]
    }
   ],
   "source": [
    "spark.sql(\"\"\"\n",
    "SELECT\n",
    "    COUNT(*) AS trip_count,\n",
    "    Zone\n",
    "FROM\n",
    "    joined\n",
    "GROUP BY\n",
    "    Zone\n",
    "ORDER BY\n",
    "    COUNT(*) ASC\n",
    "LIMIT 1\n",
    "\"\"\").show()"
   ]
  },
  {
   "cell_type": "markdown",
   "id": "f89b3008-6551-4514-852a-b2542031696b",
   "metadata": {},
   "source": [
    "### Joining in Spark SQL using temp views"
   ]
  },
  {
   "cell_type": "code",
   "execution_count": 74,
   "id": "b7bbb704-93b9-42de-9731-975f473db5d2",
   "metadata": {},
   "outputs": [
    {
     "name": "stdout",
     "output_type": "stream",
     "text": [
      "+----------+--------------------+\n",
      "|trip_count|                Zone|\n",
      "+----------+--------------------+\n",
      "|         1|Governor's Island...|\n",
      "+----------+--------------------+\n",
      "\n"
     ]
    }
   ],
   "source": [
    "spark.sql(\"\"\"\n",
    "SELECT\n",
    "    COUNT(*) AS trip_count,\n",
    "    tz.Zone\n",
    "FROM\n",
    "    yellow_2024 yt\n",
    "INNER JOIN\n",
    "    taxi_zones tz\n",
    "    ON yt.PULocationID = tz.LocationID\n",
    "GROUP BY\n",
    "    tz.Zone\n",
    "ORDER BY\n",
    "    trip_count ASC\n",
    "LIMIT 1\n",
    "\"\"\").show()"
   ]
  },
  {
   "cell_type": "code",
   "execution_count": null,
   "id": "d1f54b0e-3d96-40ee-b613-fca8f672dcf6",
   "metadata": {},
   "outputs": [],
   "source": []
  }
 ],
 "metadata": {
  "kernelspec": {
   "display_name": "Python 3 (ipykernel)",
   "language": "python",
   "name": "python3"
  },
  "language_info": {
   "codemirror_mode": {
    "name": "ipython",
    "version": 3
   },
   "file_extension": ".py",
   "mimetype": "text/x-python",
   "name": "python",
   "nbconvert_exporter": "python",
   "pygments_lexer": "ipython3",
   "version": "3.12.7"
  }
 },
 "nbformat": 4,
 "nbformat_minor": 5
}
