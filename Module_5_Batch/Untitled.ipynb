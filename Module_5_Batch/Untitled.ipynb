{
 "cells": [
  {
   "cell_type": "code",
   "execution_count": 1,
   "id": "d6c23acc-b2a3-4d2b-92ef-2cb0b22b31eb",
   "metadata": {},
   "outputs": [],
   "source": [
    "import pandas as pd"
   ]
  },
  {
   "cell_type": "code",
   "execution_count": 3,
   "id": "bb49ab7e-e6c2-4947-871a-3072a50e9a23",
   "metadata": {},
   "outputs": [],
   "source": [
    "pairs = [(1, 'one'), (3, 'three'), (2, 'two'), (5, 'five')]"
   ]
  },
  {
   "cell_type": "code",
   "execution_count": 6,
   "id": "2bef6198-9abe-4d84-846a-bed8024d65df",
   "metadata": {},
   "outputs": [],
   "source": [
    "pairs.sort(key=lambda pair: pair[0])"
   ]
  },
  {
   "cell_type": "code",
   "execution_count": 7,
   "id": "4d7f6a61-0114-4313-bb17-fbe2229dd069",
   "metadata": {},
   "outputs": [
    {
     "name": "stdout",
     "output_type": "stream",
     "text": [
      "[(1, 'one'), (2, 'two'), (3, 'three'), (5, 'five')]\n"
     ]
    }
   ],
   "source": [
    "print(pairs)"
   ]
  },
  {
   "cell_type": "code",
   "execution_count": 8,
   "id": "93047f01-981c-48d0-8f57-968446dd1f01",
   "metadata": {},
   "outputs": [],
   "source": [
    "def factorial(n):\n",
    "    if n == 1 or n == 0:\n",
    "        return 1\n",
    "    return n * factorial(n-1)"
   ]
  },
  {
   "cell_type": "code",
   "execution_count": 9,
   "id": "6c0f7056-8477-46fe-a19b-f6cdf8857583",
   "metadata": {},
   "outputs": [
    {
     "data": {
      "text/plain": [
       "120"
      ]
     },
     "execution_count": 9,
     "metadata": {},
     "output_type": "execute_result"
    }
   ],
   "source": [
    "factorial(5)"
   ]
  },
  {
   "cell_type": "code",
   "execution_count": null,
   "id": "00417dd6-146b-47f0-a488-617eba38e6ac",
   "metadata": {},
   "outputs": [],
   "source": []
  }
 ],
 "metadata": {
  "kernelspec": {
   "display_name": "Python 3 (ipykernel)",
   "language": "python",
   "name": "python3"
  },
  "language_info": {
   "codemirror_mode": {
    "name": "ipython",
    "version": 3
   },
   "file_extension": ".py",
   "mimetype": "text/x-python",
   "name": "python",
   "nbconvert_exporter": "python",
   "pygments_lexer": "ipython3",
   "version": "3.12.7"
  }
 },
 "nbformat": 4,
 "nbformat_minor": 5
}
